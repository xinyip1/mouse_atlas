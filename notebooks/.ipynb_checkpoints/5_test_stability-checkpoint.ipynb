{
 "cells": [
  {
   "cell_type": "code",
   "execution_count": 1,
   "metadata": {},
   "outputs": [
    {
     "data": {
      "text/plain": [
       "<module 'functions' from '/Users/monica/Project/mouse_atlas/notebooks/functions.py'>"
      ]
     },
     "execution_count": 1,
     "metadata": {},
     "output_type": "execute_result"
    }
   ],
   "source": [
    "import numpy as np\n",
    "import pandas as pd\n",
    "import sklearn\n",
    "import gc\n",
    "import functions\n",
    "from imp import reload\n",
    "reload(functions)"
   ]
  },
  {
   "cell_type": "code",
   "execution_count": 4,
   "metadata": {},
   "outputs": [],
   "source": [
    "expression  = pd.read_csv('../data/interim/mouse_atlas/mouse_atlas_expression.tsv', sep='\\t', index_col=0)\n",
    "genes       = pd.read_csv('../data/interim/mouse_atlas/mouse_atlas_genes.tsv', sep='\\t', index_col=0)\n",
    "annotations = pd.read_csv('../data/interim/mouse_atlas/mouse_atlas_samples.tsv', sep='\\t', index_col=0)\n",
    "annotations = annotations.rename(columns = {'Platform':'Platform_Category', 'Dataset Name': 'Dataset'})"
   ]
  },
  {
   "cell_type": "code",
   "execution_count": 6,
   "metadata": {},
   "outputs": [
    {
     "name": "stdout",
     "output_type": "stream",
     "text": [
      "Performing resampling upon data of shape: (14222, 1074)\n",
      "Utlising 2500 genes as baseline expression data\n",
      "\n",
      "Starting resampling\n",
      "\n",
      "Omitting dataset ENCODE\n",
      "Omitting dataset GGR\n",
      "Omitting dataset Haemopedia-Mouse-RNAseq\n",
      "Omitting dataset Immgen-ULI-RNAseq\n",
      "Omitting dataset Haemopedia-microarray\n",
      "Omitting dataset Gene-Expression-Commons\n",
      "Omitting dataset Immgen-microarray\n",
      "Omitting dataset Goodell\n",
      "Omitting dataset Rossi\n",
      "Omitting dataset Beerman\n",
      "Omitting dataset Cabezas-Wallscheid\n",
      "Omitting dataset Anandasabapathy\n",
      "Omitting dataset Takata\n",
      "Omitting dataset Martinez\n",
      "Omitting dataset Mackay\n",
      "Omitting dataset Doering\n",
      "Omitting dataset Gautier\n",
      "Omitting dataset Zigmond\n",
      "Omitting dataset Tanaka\n",
      "Omitting dataset Copley\n",
      "Omitting dataset Mikkelsen\n",
      "Omitting dataset Haniffa\n",
      "Done\n",
      "\n"
     ]
    }
   ],
   "source": [
    "# genes = functions.calculate_platform_dependence(blood_data, blood_annotations)\n",
    "\n",
    "H_index_list, retained_genes_list = functions.resample_clustering(expression, annotations, resample_strategy='jackknife', n_resamples=1, n_clusters_list=[3,4,5,6,7,8])"
   ]
  },
  {
   "cell_type": "code",
   "execution_count": 7,
   "metadata": {},
   "outputs": [
    {
     "data": {
      "text/plain": [
       "[array([0.727, 0.772, 0.899]),\n",
       " array([0.671, 0.824, 0.737, 0.899]),\n",
       " array([0.681, 0.752, 0.737, 0.899, 0.772]),\n",
       " array([0.5  , 0.539, 0.761, 0.833, 0.818, 0.495]),\n",
       " array([0.59 , 0.779, 0.796, 0.757, 0.681, 0.818, 0.636]),\n",
       " array([0.613, 0.802, 0.772, 0.757, 0.759, 0.818, 0.647, 0.707])]"
      ]
     },
     "execution_count": 7,
     "metadata": {},
     "output_type": "execute_result"
    }
   ],
   "source": [
    "H_index_list"
   ]
  },
  {
   "cell_type": "code",
   "execution_count": 11,
   "metadata": {},
   "outputs": [
    {
     "name": "stdout",
     "output_type": "stream",
     "text": [
      "3 0.799 0.73 0.9\n",
      "4 0.783 0.67 0.9\n",
      "5 0.768 0.68 0.9\n",
      "6 0.658 0.5 0.83\n",
      "7 0.722 0.59 0.82\n",
      "8 0.734 0.61 0.82\n"
     ]
    }
   ],
   "source": [
    "# calculate the mean H_index of each number of cluster k \n",
    "for i in H_index_list:\n",
    "    print( len(i), round(np.mean(i),3), round(min(i),2), round(max(i),2) )"
   ]
  }
 ],
 "metadata": {
  "kernelspec": {
   "display_name": "Python 3",
   "language": "python",
   "name": "python3"
  },
  "language_info": {
   "codemirror_mode": {
    "name": "ipython",
    "version": 3
   },
   "file_extension": ".py",
   "mimetype": "text/x-python",
   "name": "python",
   "nbconvert_exporter": "python",
   "pygments_lexer": "ipython3",
   "version": "3.7.4"
  }
 },
 "nbformat": 4,
 "nbformat_minor": 4
}
